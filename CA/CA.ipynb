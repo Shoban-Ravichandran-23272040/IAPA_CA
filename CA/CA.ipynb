{
 "cells": [
  {
   "cell_type": "code",
   "execution_count": 28,
   "metadata": {},
   "outputs": [
    {
     "name": "stdout",
     "output_type": "stream",
     "text": [
      "\n",
      "Parsed Invoice Data:\n",
      "{'Vendor': 'XYZ Traders Inc.', 'Invoice No': 'INV123456', 'Date': '03/29/2024', 'Items': [{'Item': 'Mouse', 'Qty': 2, 'Price': 25.0, 'Total': 50.0}, {'Item': 'Keyboard', 'Qty': 1, 'Price': 45.0, 'Total': 45.0}], 'Total Amount': 1295.0}\n"
     ]
    }
   ],
   "source": [
    "import pytesseract\n",
    "from pdf2image import convert_from_path\n",
    "import re\n",
    "from fuzzywuzzy import process\n",
    "\n",
    "# Path to Tesseract-OCR (update this based on system configuration)\n",
    "pytesseract.pytesseract.tesseract_cmd = r'C:\\Program Files\\Tesseract-OCR\\tesseract.exe'\n",
    "\n",
    "# Predefined vendor names for fuzzy matching\n",
    "VENDOR_LIST = [\"ABC Supplies Ltd.\", \"XYZ Traders Inc.\", \"Global Tech Solutions\", \"Fast Retail Corp.\"]\n",
    "\n",
    "# Function to extract text from invoice PDF\n",
    "def extract_text_from_invoice(pdf_path):\n",
    "    # Convert PDF to high-quality images\n",
    "    images = convert_from_path(\n",
    "        pdf_path,\n",
    "        poppler_path=r'C:\\Program Files\\poppler-24.08.0\\Library\\bin',\n",
    "        dpi=300  # Higher DPI for better quality\n",
    "    )\n",
    "    \n",
    "    extracted_text = \"\"\n",
    "    for img in images:\n",
    "        # Enhance image quality before OCR\n",
    "        img = img.convert('L')  # Convert to grayscale\n",
    "        extracted_text += pytesseract.image_to_string(\n",
    "            img,\n",
    "            lang='eng',\n",
    "            config='--psm 6 --oem 3'  # PSM 6: Assume a single uniform block of text; OEM 3: Default LSTM engine\n",
    "        )\n",
    "    return extracted_text\n",
    "\n",
    "# Function to clean and parse the extracted text\n",
    "def parse_invoice_text(text):\n",
    "    # Fuzzy match vendor name\n",
    "    vendor_match = process.extractOne(text.split('\\n')[0], VENDOR_LIST)\n",
    "    vendor = vendor_match[0] if vendor_match[0] in VENDOR_LIST else \"Unknown Vendor\"\n",
    "    \n",
    "    # Extract invoice details using regex\n",
    "    invoice_no = re.search(r'Invoice No: (\\S+)', text).group(1)\n",
    "    date = re.search(r'Date: (\\S+)', text).group(1)\n",
    "    \n",
    "    # Extract itemized section\n",
    "    lines = text.split('\\n')\n",
    "    item_section_start = lines.index(\"Item Qty Price Total\") + 2  # Skip header and separator line\n",
    "    items = []\n",
    "    for line in lines[item_section_start:]:\n",
    "        if not line.strip():\n",
    "            break\n",
    "        parts = line.split()\n",
    "        if len(parts) == 4:\n",
    "            item, qty, price, total = parts\n",
    "            items.append({\n",
    "                \"Item\": item,\n",
    "                \"Qty\": int(qty),\n",
    "                \"Price\": float(price),\n",
    "                \"Total\": float(total)\n",
    "            })\n",
    "    \n",
    "    # Extract total amount\n",
    "    total_amount = float(re.search(r'Total Amount: \\$(\\d+\\.\\d+)', text).group(1))\n",
    "    \n",
    "    return {\n",
    "        \"Vendor\": vendor,\n",
    "        \"Invoice No\": invoice_no,\n",
    "        \"Date\": date,\n",
    "        \"Items\": items,\n",
    "        \"Total Amount\": total_amount\n",
    "    }\n",
    "\n",
    "# Example usage\n",
    "pdf_path = \"E:\\Shoban-NCI\\VS_Code_WS\\IAPA\\sample_invoice.pdf\"  # Replace with actual invoice file path\n",
    "text = extract_text_from_invoice(pdf_path)\n",
    "# Parse the extracted text\n",
    "invoice_data = parse_invoice_text(text)\n",
    "print(\"\\nParsed Invoice Data:\")\n",
    "print(invoice_data)"
   ]
  }
 ],
 "metadata": {
  "kernelspec": {
   "display_name": "pycaret_env",
   "language": "python",
   "name": "python3"
  },
  "language_info": {
   "codemirror_mode": {
    "name": "ipython",
    "version": 3
   },
   "file_extension": ".py",
   "mimetype": "text/x-python",
   "name": "python",
   "nbconvert_exporter": "python",
   "pygments_lexer": "ipython3",
   "version": "3.11.9"
  }
 },
 "nbformat": 4,
 "nbformat_minor": 2
}
